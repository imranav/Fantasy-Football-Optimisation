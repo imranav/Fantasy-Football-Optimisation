{
 "cells": [
  {
   "cell_type": "markdown",
   "id": "5aa107d6",
   "metadata": {},
   "source": [
    "# FPL API Exploration"
   ]
  },
  {
   "cell_type": "code",
   "execution_count": 1,
   "id": "7ce8e72a",
   "metadata": {},
   "outputs": [
    {
     "name": "stdout",
     "output_type": "stream",
     "text": [
      "Players shape: (674, 101)\n",
      "Teams shape: (20, 21)\n",
      "Positions shape: (4, 13)\n",
      "Events shape: (38, 29)\n"
     ]
    }
   ],
   "source": [
    "import requests\n",
    "import pandas as pd\n",
    "\n",
    "# Base URL\n",
    "fpl = \"https://fantasy.premierleague.com/api/\"\n",
    "\n",
    "# 1. Fetch bootstrap-static (core data)\n",
    "response = requests.get(fpl + \"bootstrap-static/\")\n",
    "data = response.json()\n",
    "\n",
    "# Convert main elements to DataFrames\n",
    "players_df = pd.DataFrame(data['elements'])\n",
    "teams_df = pd.DataFrame(data['teams'])\n",
    "positions_df = pd.DataFrame(data['element_types'])\n",
    "events_df = pd.DataFrame(data['events'])\n",
    "\n",
    "print(\"Players shape:\", players_df.shape)\n",
    "print(\"Teams shape:\", teams_df.shape)\n",
    "print(\"Positions shape:\", positions_df.shape)\n",
    "print(\"Events shape:\", events_df.shape)\n",
    "\n"
   ]
  },
  {
   "cell_type": "markdown",
   "id": "88e1ae95",
   "metadata": {},
   "source": [
    "We will now preview some of the main columns in each dataframe"
   ]
  },
  {
   "cell_type": "code",
   "execution_count": 2,
   "id": "9cc1a1db",
   "metadata": {},
   "outputs": [
    {
     "name": "stdout",
     "output_type": "stream",
     "text": [
      "   id first_name            second_name  team  element_type  now_cost  \\\n",
      "0   1      David            Raya Martín     1             1        55   \n",
      "1   2       Kepa  Arrizabalaga Revuelta     1             1        45   \n",
      "2   3       Karl                   Hein     1             1        40   \n",
      "3   4      Tommy                Setford     1             1        40   \n",
      "4   5    Gabriel   dos Santos Magalhães     1             2        60   \n",
      "\n",
      "   total_points form status  \n",
      "0           142  0.0      a  \n",
      "1           106  0.0      a  \n",
      "2             0  0.0      a  \n",
      "3             0  0.0      a  \n",
      "4           117  0.0      a  \n",
      "   id         name  strength_attack_home  strength_defence_away\n",
      "0   1      Arsenal                  1350                   1300\n",
      "1   2  Aston Villa                  1110                   1300\n",
      "2   3      Burnley                  1050                   1050\n",
      "3   4  Bournemouth                  1100                   1200\n",
      "4   5    Brentford                  1080                   1290\n",
      "   id singular_name\n",
      "0   1    Goalkeeper\n",
      "1   2      Defender\n",
      "2   3    Midfielder\n",
      "3   4       Forward\n",
      "    id         name         deadline_time  is_current  is_next\n",
      "0    1   Gameweek 1  2025-08-15T17:30:00Z       False     True\n",
      "1    2   Gameweek 2  2025-08-22T17:30:00Z       False    False\n",
      "2    3   Gameweek 3  2025-08-29T17:30:00Z       False    False\n",
      "3    4   Gameweek 4  2025-09-13T10:00:00Z       False    False\n",
      "4    5   Gameweek 5  2025-09-20T10:00:00Z       False    False\n",
      "5    6   Gameweek 6  2025-09-27T10:00:00Z       False    False\n",
      "6    7   Gameweek 7  2025-10-04T12:30:00Z       False    False\n",
      "7    8   Gameweek 8  2025-10-18T12:30:00Z       False    False\n",
      "8    9   Gameweek 9  2025-10-25T12:30:00Z       False    False\n",
      "9   10  Gameweek 10  2025-11-01T13:30:00Z       False    False\n",
      "10  11  Gameweek 11  2025-11-08T13:30:00Z       False    False\n",
      "11  12  Gameweek 12  2025-11-22T13:30:00Z       False    False\n",
      "12  13  Gameweek 13  2025-11-29T13:30:00Z       False    False\n",
      "13  14  Gameweek 14  2025-12-03T18:30:00Z       False    False\n",
      "14  15  Gameweek 15  2025-12-06T13:30:00Z       False    False\n",
      "15  16  Gameweek 16  2025-12-13T13:30:00Z       False    False\n",
      "16  17  Gameweek 17  2025-12-20T13:30:00Z       False    False\n",
      "17  18  Gameweek 18  2025-12-27T13:30:00Z       False    False\n",
      "18  19  Gameweek 19  2025-12-30T18:30:00Z       False    False\n",
      "19  20  Gameweek 20  2026-01-03T13:30:00Z       False    False\n",
      "20  21  Gameweek 21  2026-01-07T18:30:00Z       False    False\n",
      "21  22  Gameweek 22  2026-01-17T13:30:00Z       False    False\n",
      "22  23  Gameweek 23  2026-01-24T13:30:00Z       False    False\n",
      "23  24  Gameweek 24  2026-01-31T13:30:00Z       False    False\n",
      "24  25  Gameweek 25  2026-02-07T13:30:00Z       False    False\n",
      "25  26  Gameweek 26  2026-02-11T18:30:00Z       False    False\n",
      "26  27  Gameweek 27  2026-02-21T13:30:00Z       False    False\n",
      "27  28  Gameweek 28  2026-02-28T13:30:00Z       False    False\n",
      "28  29  Gameweek 29  2026-03-04T18:30:00Z       False    False\n",
      "29  30  Gameweek 30  2026-03-14T13:30:00Z       False    False\n",
      "30  31  Gameweek 31  2026-03-21T13:30:00Z       False    False\n",
      "31  32  Gameweek 32  2026-04-11T12:30:00Z       False    False\n",
      "32  33  Gameweek 33  2026-04-18T12:30:00Z       False    False\n",
      "33  34  Gameweek 34  2026-04-25T12:30:00Z       False    False\n",
      "34  35  Gameweek 35  2026-05-02T12:30:00Z       False    False\n",
      "35  36  Gameweek 36  2026-05-09T12:30:00Z       False    False\n",
      "36  37  Gameweek 37  2026-05-17T12:30:00Z       False    False\n",
      "37  38  Gameweek 38  2026-05-24T13:30:00Z       False    False\n",
      "Fixtures shape: (380, 17)\n",
      "      code  event  finished  finished_provisional  id          kickoff_time  \\\n",
      "0  2561895      1     False                 False   1  2025-08-15T19:00:00Z   \n",
      "1  2561896      1     False                 False   2  2025-08-16T11:30:00Z   \n",
      "2  2561897      1     False                 False   3  2025-08-16T14:00:00Z   \n",
      "3  2561900      1     False                 False   6  2025-08-16T14:00:00Z   \n",
      "4  2561899      1     False                 False   5  2025-08-16T14:00:00Z   \n",
      "\n",
      "   minutes  provisional_start_time  started  team_a team_a_score  team_h  \\\n",
      "0        0                   False    False       4         None      12   \n",
      "1        0                   False    False      15         None       2   \n",
      "2        0                   False    False      10         None       6   \n",
      "3        0                   False    False       3         None      18   \n",
      "4        0                   False    False      19         None      17   \n",
      "\n",
      "  team_h_score stats  team_h_difficulty  team_a_difficulty  pulse_id  \n",
      "0         None    []                  3                  5    124791  \n",
      "1         None    []                  3                  4    124792  \n",
      "2         None    []                  3                  3    124793  \n",
      "3         None    []                  2                  3    124796  \n",
      "4         None    []                  2                  2    124795  \n",
      "Player 1 history shape: (0, 0)\n",
      "Empty DataFrame\n",
      "Columns: []\n",
      "Index: []\n"
     ]
    }
   ],
   "source": [
    "\n",
    "print(players_df[['id', 'first_name', 'second_name', 'team', 'element_type', 'now_cost', 'total_points', 'form', 'status']].head())\n",
    "\n",
    "\n",
    "print(teams_df[['id', 'name', 'strength_attack_home', 'strength_defence_away']].head())\n",
    "\n",
    "\n",
    "print(positions_df[['id', 'singular_name']])\n",
    "\n",
    "\n",
    "print(events_df[['id', 'name', 'deadline_time', 'is_current', 'is_next']])\n",
    "\n",
    "fixtures_resp = requests.get(fpl+ \"fixtures/\")\n",
    "fixtures_df = pd.DataFrame(fixtures_resp.json())\n",
    "print(\"Fixtures shape:\", fixtures_df.shape)\n",
    "print(fixtures_df.head())\n",
    "\n",
    "\n",
    "first_player_id = players_df.iloc[0]['id']\n",
    "summary_resp = requests.get(fpl + f\"element-summary/{int(first_player_id)}/\")\n",
    "summary_data = summary_resp.json()\n",
    "\n",
    "player_history_df = pd.DataFrame(summary_data['history'])\n",
    "print(f\"Player {first_player_id} history shape:\", player_history_df.shape)\n",
    "print(player_history_df.head())\n"
   ]
  },
  {
   "cell_type": "markdown",
   "id": "d53a586b",
   "metadata": {},
   "source": [
    "This API provides in season data"
   ]
  }
 ],
 "metadata": {
  "kernelspec": {
   "display_name": "base",
   "language": "python",
   "name": "python3"
  },
  "language_info": {
   "codemirror_mode": {
    "name": "ipython",
    "version": 3
   },
   "file_extension": ".py",
   "mimetype": "text/x-python",
   "name": "python",
   "nbconvert_exporter": "python",
   "pygments_lexer": "ipython3",
   "version": "3.12.7"
  }
 },
 "nbformat": 4,
 "nbformat_minor": 5
}
